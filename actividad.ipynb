{
 "cells": [
  {
   "cell_type": "markdown",
   "id": "498731c6",
   "metadata": {},
   "source": [
    "# Actividad - Trabajando con Series de Pandas.\n",
    "## Criterios de evaluación.\n",
    "\n",
    "* Se deben utilizar nombres de variables descriptivos y claros (Utilizar la nomeclatura correspondiente para los nombres de variables).\n",
    "* Comentarios claros y concisos que expliquen el propósito de cada sección del código.\n",
    "* Utilizar mensajes de commit **descriptivos**. (Puedes utilizar la extension CONVENTIONAL COMMIT de VS-CODE). \n",
    "* Entrega en tiempo y forma.\n",
    "* Todo el código desarrollado debe ser subido a un repositorio en GitHub (el nombre del repositorio de seguir la siguiente estructura: actividad_tlp3_nombre_apellido).\n",
    "* Para resolver las actividades se debe insertar casillas de codigo entre cada actividad del cuaderno de Jupyter\n",
    "\n",
    "### ¡Importante!\n",
    "**El incumplimiento de los criterios de evaluación restará puntos en la nota final del práctico!**"
   ]
  },
  {
   "cell_type": "markdown",
   "id": "b361a7b6",
   "metadata": {},
   "source": [
    "### **Actividad 1:** \n",
    "\n",
    "Crear Series desde diferentes estructuras.\n",
    "* Crea una Series con los números del 1 al 5\n",
    "* Crea una Series a partir de un diccionario con nombres de países como claves y sus capitales como valores."
   ]
  },
  {
   "cell_type": "code",
   "execution_count": 1,
   "id": "a920d787",
   "metadata": {},
   "outputs": [],
   "source": [
    "import pandas as pd\n",
    "from pandas import Series"
   ]
  },
  {
   "cell_type": "code",
   "execution_count": 2,
   "id": "26009294",
   "metadata": {},
   "outputs": [
    {
     "data": {
      "text/plain": [
       "0    1\n",
       "1    2\n",
       "2    3\n",
       "3    4\n",
       "4    5\n",
       "dtype: int64"
      ]
     },
     "execution_count": 2,
     "metadata": {},
     "output_type": "execute_result"
    }
   ],
   "source": [
    "# todo:\n",
    "serie_numeros = pd.Series([1, 2, 3, 4, 5])\n",
    "\n",
    "serie_numeros"
   ]
  },
  {
   "cell_type": "code",
   "execution_count": 7,
   "id": "d4b8c341",
   "metadata": {},
   "outputs": [
    {
     "data": {
      "text/plain": [
       "Argentina    Buenos Aires\n",
       "Brasil           Brasilia\n",
       "Uruguay        Montevideo\n",
       "Chile            Santiago\n",
       "dtype: object"
      ]
     },
     "execution_count": 7,
     "metadata": {},
     "output_type": "execute_result"
    }
   ],
   "source": [
    "capitales = Series({\"Argentina\": \"Buenos Aires\", \"Brasil\": \"Brasilia\", \"Uruguay\": \"Montevideo\", \"Chile\": \"Santiago\"})\n",
    "capitales\n"
   ]
  },
  {
   "cell_type": "markdown",
   "id": "0c239195",
   "metadata": {},
   "source": [
    "### **Actividad 2:** \n",
    "Acceso y selección de elementos.\n",
    "* Usa una Series con tareas (que haceres cotidianos) de una semana\n",
    "* Accede a diferentes elementos a elección.\n",
    "* Cambia los valores de los dias pares.\n"
   ]
  },
  {
   "cell_type": "code",
   "execution_count": 14,
   "id": "3611d25a",
   "metadata": {},
   "outputs": [
    {
     "name": "stdout",
     "output_type": "stream",
     "text": [
      "Lunes               Estudiar\n",
      "Martes        Ir al gimnasio\n",
      "Miércoles               Leer\n",
      "Jueves         Hacer compras\n",
      "Viernes             Trabajar\n",
      "Sábado       Salir a caminar\n",
      "Domingo            Descansar\n",
      "dtype: object\n"
     ]
    }
   ],
   "source": [
    "# todo:\n",
    "# Crear una Series con tareas de la semana\n",
    "tareas_semana = Series({\n",
    "    \"Lunes\": \"Estudiar\",\n",
    "    \"Martes\": \"Hacer ejercicio\",\n",
    "    \"Miércoles\": \"Leer\",\n",
    "    \"Jueves\": \"Cocinar\",\n",
    "    \"Viernes\": \"Trabajar\",\n",
    "    \"Sábado\": \"Limpiar\",\n",
    "    \"Domingo\": \"Descansar\"\n",
    "})\n",
    "\n",
    "tareas_semana\n",
    "\n",
    "# Modificar los valores de algunos días\n",
    "tareas_semana[\"Martes\"] = \"Ir al gimnasio\"\n",
    "tareas_semana[\"Jueves\"] = \"Hacer compras\"\n",
    "tareas_semana[\"Sábado\"] = \"Salir a caminar\"\n",
    "\n",
    "# Mostrar la Series modificada\n",
    "print(tareas_semana)"
   ]
  },
  {
   "cell_type": "markdown",
   "id": "70a24b97",
   "metadata": {},
   "source": [
    "### **Actividad 3:**\n",
    "Operaciones aritméticas. \n",
    "* Realiza las operaciones basicas con 2 series cuales quieran.\n",
    "* Eleva los valores de la primer serie a 3 potencias difetentes."
   ]
  },
  {
   "cell_type": "code",
   "execution_count": 16,
   "id": "a9c8ebc7",
   "metadata": {},
   "outputs": [
    {
     "name": "stdout",
     "output_type": "stream",
     "text": [
      "Suma:\n",
      "0    11\n",
      "1    22\n",
      "2    33\n",
      "3    44\n",
      "4    55\n",
      "dtype: int64\n",
      "\n",
      "Resta:\n",
      "0    -9\n",
      "1   -18\n",
      "2   -27\n",
      "3   -36\n",
      "4   -45\n",
      "dtype: int64\n",
      "\n",
      "Multiplicación:\n",
      "0     10\n",
      "1     40\n",
      "2     90\n",
      "3    160\n",
      "4    250\n",
      "dtype: int64\n",
      "\n",
      "División:\n",
      "0    0.1\n",
      "1    0.1\n",
      "2    0.1\n",
      "3    0.1\n",
      "4    0.1\n",
      "dtype: float64\n",
      "\n",
      "Cuadrado:\n",
      "0     1\n",
      "1     4\n",
      "2     9\n",
      "3    16\n",
      "4    25\n",
      "dtype: int64\n",
      "\n",
      "Cubo:\n",
      "0      1\n",
      "1      8\n",
      "2     27\n",
      "3     64\n",
      "4    125\n",
      "dtype: int64\n",
      "\n",
      "Cuarta potencia:\n",
      "0      1\n",
      "1     16\n",
      "2     81\n",
      "3    256\n",
      "4    625\n",
      "dtype: int64\n",
      "\n"
     ]
    }
   ],
   "source": [
    "\n",
    "# todo:\n",
    "\n",
    "serie1 = pd.Series([1, 2, 3, 4, 5])\n",
    "serie2 = pd.Series([10, 20, 30, 40, 50])\n",
    "\n",
    "resultados = {\n",
    "    \"Suma\": serie1 + serie2,\n",
    "    \"Resta\": serie1 - serie2,\n",
    "    \"Multiplicación\": serie1 * serie2,\n",
    "    \"División\": serie1 / serie2\n",
    "}\n",
    "\n",
    "for operacion, resultado in resultados.items():\n",
    "    print(f\"{operacion}:\\n{resultado}\\n\")\n",
    "\n",
    "potencias = {\n",
    "    \"Cuadrado\": serie1 ** 2,\n",
    "    \"Cubo\": serie1 ** 3,\n",
    "    \"Cuarta potencia\": serie1 ** 4\n",
    "}\n",
    "\n",
    "for potencia, resultado in potencias.items():\n",
    "    print(f\"{potencia}:\\n{resultado}\\n\")"
   ]
  },
  {
   "cell_type": "markdown",
   "id": "b8dac397",
   "metadata": {},
   "source": [
    "### **Actividad 4:** \n",
    "Filtrado con condiciones.\n",
    "* Crea una Series de edades de 10 personas.\n",
    "* Muestra solo a los mayores de 18.\n",
    "* Reemplaza a los menores por \"Menor de edad\"."
   ]
  },
  {
   "cell_type": "code",
   "execution_count": null,
   "id": "d04fd492",
   "metadata": {},
   "outputs": [
    {
     "name": "stdout",
     "output_type": "stream",
     "text": [
      "Mayores de 18:\n",
      " Persona 2     22\n",
      "Persona 4     19\n",
      "Persona 5     30\n",
      "Persona 7     25\n",
      "Persona 10    21\n",
      "dtype: int64\n"
     ]
    },
    {
     "name": "stderr",
     "output_type": "stream",
     "text": [
      "/tmp/ipykernel_18923/3395001055.py:18: FutureWarning: Setting an item of incompatible dtype is deprecated and will raise an error in a future version of pandas. Value 'Menor de edad' has dtype incompatible with int64, please explicitly cast to a compatible dtype first.\n",
      "  edades[edades < 18] = \"Menor de edad\"\n"
     ]
    },
    {
     "data": {
      "text/plain": [
       "Persona 1     Menor de edad\n",
       "Persona 2                22\n",
       "Persona 3     Menor de edad\n",
       "Persona 4                19\n",
       "Persona 5                30\n",
       "Persona 6     Menor de edad\n",
       "Persona 7                25\n",
       "Persona 8                18\n",
       "Persona 9     Menor de edad\n",
       "Persona 10               21\n",
       "dtype: object"
      ]
     },
     "execution_count": 23,
     "metadata": {},
     "output_type": "execute_result"
    }
   ],
   "source": [
    "\n",
    "# todo:\n",
    "edades = pd.Series({\n",
    "    \"Persona 1\": 15,\n",
    "    \"Persona 2\": 22,\n",
    "    \"Persona 3\": 17,\n",
    "    \"Persona 4\": 19,\n",
    "    \"Persona 5\": 30,\n",
    "    \"Persona 6\": 12,\n",
    "    \"Persona 7\": 25,\n",
    "    \"Persona 8\": 18,\n",
    "    \"Persona 9\": 16,\n",
    "    \"Persona 10\": 21\n",
    "})\n",
    "\n",
    "mayores_18 = edades[edades > 18]\n",
    "print(\"Mayores de 18:\\n\", mayores_18)\n",
    "\n",
    "edades[edades < 18] = \"Menor de edad\"\n",
    "\n",
    "edades"
   ]
  },
  {
   "cell_type": "markdown",
   "id": "8889d0f2",
   "metadata": {},
   "source": [
    "### Actividad 5:\n",
    "Estadísticas básicas.\n",
    "\n",
    "* Crea una Series con las notas de 10 estudiantes.\n",
    "* Calcula la media, mediana, desviación estándar y máximo.\n",
    "* Muestra cuántos estudiantes aprobaron si el mínimo para aprobar es 6.\n",
    "* Ordenar las notas de manera ascendente y descendente. "
   ]
  },
  {
   "cell_type": "code",
   "execution_count": null,
   "id": "bc0ec844",
   "metadata": {},
   "outputs": [],
   "source": [
    "\n",
    "# todo:\n"
   ]
  }
 ],
 "metadata": {
  "kernelspec": {
   "display_name": "jupyter-not",
   "language": "python",
   "name": "python3"
  },
  "language_info": {
   "codemirror_mode": {
    "name": "ipython",
    "version": 3
   },
   "file_extension": ".py",
   "mimetype": "text/x-python",
   "name": "python",
   "nbconvert_exporter": "python",
   "pygments_lexer": "ipython3",
   "version": "3.13.3"
  }
 },
 "nbformat": 4,
 "nbformat_minor": 5
}
